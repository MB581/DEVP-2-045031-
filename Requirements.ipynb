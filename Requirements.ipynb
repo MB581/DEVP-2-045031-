{
 "cells": [
  {
   "cell_type": "markdown",
   "id": "d14508ff",
   "metadata": {},
   "source": [
    "pandas\n",
    "\n",
    "matplotlib\n",
    "\n",
    "numpy\n",
    "\n",
    "plotly\n",
    "\n",
    "streamlit\n",
    "\n",
    "gif\n",
    "\n",
    "IPython\n",
    "\n",
    "HTML\n",
    "\n",
    "seaborn\n"
   ]
  }
 ],
 "metadata": {
  "kernelspec": {
   "display_name": "Python 3 (ipykernel)",
   "language": "python",
   "name": "python3"
  },
  "language_info": {
   "codemirror_mode": {
    "name": "ipython",
    "version": 3
   },
   "file_extension": ".py",
   "mimetype": "text/x-python",
   "name": "python",
   "nbconvert_exporter": "python",
   "pygments_lexer": "ipython3",
   "version": "3.8.8"
  }
 },
 "nbformat": 4,
 "nbformat_minor": 5
}
