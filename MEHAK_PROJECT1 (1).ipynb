{
 "cells": [
  {
   "cell_type": "markdown",
   "id": "c4a78085",
   "metadata": {},
   "source": [
    "# Report on Monthly Weather Analysis in London (2012-2014)"
   ]
  },
  {
   "cell_type": "markdown",
   "id": "ebb35d90",
   "metadata": {},
   "source": [
    "### Introduction"
   ]
  },
  {
   "cell_type": "markdown",
   "id": "ea41b994",
   "metadata": {},
   "source": [
    "This comprehensive report undertakes a meticulous exploration of the intricate monthly weather patterns in London spanning the years 2012 to 2014. Leveraging a rich dataset sourced from Dark Sky, the analysis zeroes in on three pivotal weather indicators – temperature, visibility, and windspeed. To distill overarching trends and glean a holistic understanding of London's climatic variations, the dataset undergoes a meticulous resampling process, transitioning to a monthly frequency. This deliberate choice serves as the bedrock for capturing and elucidating the broad strokes of London's weather dynamics.\n",
    "\n",
    "The primary objective woven into the fabric of this analysis is not just data scrutiny but the extraction of profound insights. By focusing on temperature, visibility, and windspeed, the aim is to unravel the intricacies of how these variables interplay over the selected timeframe. However, this pursuit of understanding goes beyond static representations, introducing a dynamic dimension through the incorporation of animated GIFs. These visual tools transcend conventional data analysis, offering a multi-sensory approach to interpreting and communicating the complex narrative of London's monthly weather trends.\n",
    "\n",
    "In essence, this report aspires to be more than a recollection of meteorological data; it endeavors to be a chronicle of London's climatic story during a crucial timeframe. It strives to transform raw data into a visual symphony, where animated GIFs serve as the conductor orchestrating the ebb and flow of temperature, visibility, and windspeed. By encapsulating these weather patterns in a dynamic visual format, the report seeks not only to inform but to engage and immerse its audience in the rhythmic pulse of London's atmospheric fluctuations.\n",
    "\n",
    "As we embark on this analytical journey, the intention is not merely to decipher numbers but to unlock the strategic implications hidden within the weather data. The animated visualizations, akin to a dynamic weather canvas, unfold as powerful instruments for decoding the language of climate. Through this endeavor, the report aspires to contribute not just to meteorological discourse but to become a catalyst for strategic decision-making in various sectors impacted by the ever-changing weather dynamics of London. In embracing the synergy of data, analysis, and visualization, this report stands as a testament to the transformative potential that weather insights, when presented dynamically, hold for informed decision-making."
   ]
  },
  {
   "cell_type": "code",
   "execution_count": 1,
   "id": "487359b5",
   "metadata": {
    "scrolled": true
   },
   "outputs": [
    {
     "name": "stdout",
     "output_type": "stream",
     "text": [
      "Collecting gifNote: you may need to restart the kernel to use updated packages.\n",
      "\n",
      "  Downloading gif-3.0.0.tar.gz (5.0 kB)\n",
      "Requirement already satisfied: Pillow>=7.1.2 in c:\\users\\mehak_rx4kigm\\anaconda3\\lib\\site-packages (from gif) (8.3.1)\n",
      "Building wheels for collected packages: gif\n",
      "  Building wheel for gif (setup.py): started\n",
      "  Building wheel for gif (setup.py): finished with status 'done'\n",
      "  Created wheel for gif: filename=gif-3.0.0-py3-none-any.whl size=4817 sha256=c54f7729283742a8ee5dba291e4888d6f976ca8d663d7b1ef74de8ed423a212b\n",
      "  Stored in directory: c:\\users\\mehak_rx4kigm\\appdata\\local\\pip\\cache\\wheels\\d8\\db\\4e\\e0ce5209665322902834f4e88fa987f4dfa0c08271368ef098\n",
      "Successfully built gif\n",
      "Installing collected packages: gif\n",
      "Successfully installed gif-3.0.0\n"
     ]
    }
   ],
   "source": [
    "pip install gif"
   ]
  },
  {
   "cell_type": "code",
   "execution_count": 2,
   "id": "96c4ab88",
   "metadata": {},
   "outputs": [],
   "source": [
    "import pandas as pd\n",
    "import numpy as np\n",
    "\n",
    "from IPython.display import HTML\n",
    "\n",
    "import gif\n",
    "import seaborn as sns\n",
    "import matplotlib.pyplot as plt\n",
    "plt.style.use('fivethirtyeight')"
   ]
  },
  {
   "cell_type": "code",
   "execution_count": 3,
   "id": "5bbf4c7d",
   "metadata": {},
   "outputs": [],
   "source": [
    "data = pd.read_csv('weather_hourly_darksky.csv')"
   ]
  },
  {
   "cell_type": "code",
   "execution_count": 4,
   "id": "00f821b7",
   "metadata": {},
   "outputs": [
    {
     "data": {
      "text/html": [
       "<div>\n",
       "<style scoped>\n",
       "    .dataframe tbody tr th:only-of-type {\n",
       "        vertical-align: middle;\n",
       "    }\n",
       "\n",
       "    .dataframe tbody tr th {\n",
       "        vertical-align: top;\n",
       "    }\n",
       "\n",
       "    .dataframe thead th {\n",
       "        text-align: right;\n",
       "    }\n",
       "</style>\n",
       "<table border=\"1\" class=\"dataframe\">\n",
       "  <thead>\n",
       "    <tr style=\"text-align: right;\">\n",
       "      <th></th>\n",
       "      <th>visibility</th>\n",
       "      <th>windBearing</th>\n",
       "      <th>temperature</th>\n",
       "      <th>time</th>\n",
       "      <th>dewPoint</th>\n",
       "      <th>pressure</th>\n",
       "      <th>apparentTemperature</th>\n",
       "      <th>windSpeed</th>\n",
       "      <th>precipType</th>\n",
       "      <th>icon</th>\n",
       "      <th>humidity</th>\n",
       "      <th>summary</th>\n",
       "    </tr>\n",
       "  </thead>\n",
       "  <tbody>\n",
       "    <tr>\n",
       "      <th>0</th>\n",
       "      <td>5.97</td>\n",
       "      <td>104</td>\n",
       "      <td>10.24</td>\n",
       "      <td>2011-11-11 00:00:00</td>\n",
       "      <td>8.86</td>\n",
       "      <td>1016.76</td>\n",
       "      <td>10.24</td>\n",
       "      <td>2.77</td>\n",
       "      <td>rain</td>\n",
       "      <td>partly-cloudy-night</td>\n",
       "      <td>0.91</td>\n",
       "      <td>Partly Cloudy</td>\n",
       "    </tr>\n",
       "    <tr>\n",
       "      <th>1</th>\n",
       "      <td>4.88</td>\n",
       "      <td>99</td>\n",
       "      <td>9.76</td>\n",
       "      <td>2011-11-11 01:00:00</td>\n",
       "      <td>8.83</td>\n",
       "      <td>1016.63</td>\n",
       "      <td>8.24</td>\n",
       "      <td>2.95</td>\n",
       "      <td>rain</td>\n",
       "      <td>partly-cloudy-night</td>\n",
       "      <td>0.94</td>\n",
       "      <td>Partly Cloudy</td>\n",
       "    </tr>\n",
       "    <tr>\n",
       "      <th>2</th>\n",
       "      <td>3.70</td>\n",
       "      <td>98</td>\n",
       "      <td>9.46</td>\n",
       "      <td>2011-11-11 02:00:00</td>\n",
       "      <td>8.79</td>\n",
       "      <td>1016.36</td>\n",
       "      <td>7.76</td>\n",
       "      <td>3.17</td>\n",
       "      <td>rain</td>\n",
       "      <td>partly-cloudy-night</td>\n",
       "      <td>0.96</td>\n",
       "      <td>Partly Cloudy</td>\n",
       "    </tr>\n",
       "    <tr>\n",
       "      <th>3</th>\n",
       "      <td>3.12</td>\n",
       "      <td>99</td>\n",
       "      <td>9.23</td>\n",
       "      <td>2011-11-11 03:00:00</td>\n",
       "      <td>8.63</td>\n",
       "      <td>1016.28</td>\n",
       "      <td>7.44</td>\n",
       "      <td>3.25</td>\n",
       "      <td>rain</td>\n",
       "      <td>fog</td>\n",
       "      <td>0.96</td>\n",
       "      <td>Foggy</td>\n",
       "    </tr>\n",
       "    <tr>\n",
       "      <th>4</th>\n",
       "      <td>1.85</td>\n",
       "      <td>111</td>\n",
       "      <td>9.26</td>\n",
       "      <td>2011-11-11 04:00:00</td>\n",
       "      <td>9.21</td>\n",
       "      <td>1015.98</td>\n",
       "      <td>7.24</td>\n",
       "      <td>3.70</td>\n",
       "      <td>rain</td>\n",
       "      <td>fog</td>\n",
       "      <td>1.00</td>\n",
       "      <td>Foggy</td>\n",
       "    </tr>\n",
       "  </tbody>\n",
       "</table>\n",
       "</div>"
      ],
      "text/plain": [
       "   visibility  windBearing  temperature                 time  dewPoint  \\\n",
       "0        5.97          104        10.24  2011-11-11 00:00:00      8.86   \n",
       "1        4.88           99         9.76  2011-11-11 01:00:00      8.83   \n",
       "2        3.70           98         9.46  2011-11-11 02:00:00      8.79   \n",
       "3        3.12           99         9.23  2011-11-11 03:00:00      8.63   \n",
       "4        1.85          111         9.26  2011-11-11 04:00:00      9.21   \n",
       "\n",
       "   pressure  apparentTemperature  windSpeed precipType                 icon  \\\n",
       "0   1016.76                10.24       2.77       rain  partly-cloudy-night   \n",
       "1   1016.63                 8.24       2.95       rain  partly-cloudy-night   \n",
       "2   1016.36                 7.76       3.17       rain  partly-cloudy-night   \n",
       "3   1016.28                 7.44       3.25       rain                  fog   \n",
       "4   1015.98                 7.24       3.70       rain                  fog   \n",
       "\n",
       "   humidity        summary  \n",
       "0      0.91  Partly Cloudy  \n",
       "1      0.94  Partly Cloudy  \n",
       "2      0.96  Partly Cloudy  \n",
       "3      0.96          Foggy  \n",
       "4      1.00          Foggy  "
      ]
     },
     "execution_count": 4,
     "metadata": {},
     "output_type": "execute_result"
    }
   ],
   "source": [
    "data.head()"
   ]
  },
  {
   "cell_type": "markdown",
   "id": "1570bb17",
   "metadata": {},
   "source": [
    "### Overview of the data"
   ]
  },
  {
   "cell_type": "markdown",
   "id": "974f815d",
   "metadata": {},
   "source": [
    "The dataset comprises hourly weather observations, emphasizing temperature, visibility, and windspeed. Through resampling, the data has been aggregated on a monthly scale, providing a comprehensive view of London's weather variations. The analysis aims to uncover nuanced patterns and potential seasonal fluctuations."
   ]
  },
  {
   "cell_type": "code",
   "execution_count": 5,
   "id": "50351a1f",
   "metadata": {},
   "outputs": [
    {
     "name": "stdout",
     "output_type": "stream",
     "text": [
      "Dataset shape:  (21165, 12)\n"
     ]
    }
   ],
   "source": [
    "print('Dataset shape: ', data.shape)"
   ]
  },
  {
   "cell_type": "code",
   "execution_count": 6,
   "id": "5b091f37",
   "metadata": {},
   "outputs": [],
   "source": [
    "data = data.rename(columns={\"time\": \"date\"})"
   ]
  },
  {
   "cell_type": "code",
   "execution_count": 7,
   "id": "8c792a7d",
   "metadata": {},
   "outputs": [],
   "source": [
    "data['date'] = pd.to_datetime(data['date'])"
   ]
  },
  {
   "cell_type": "code",
   "execution_count": 8,
   "id": "7b838b59",
   "metadata": {},
   "outputs": [],
   "source": [
    "data.set_index('date',drop=True, inplace=True)"
   ]
  },
  {
   "cell_type": "code",
   "execution_count": 9,
   "id": "2ad5ba57",
   "metadata": {},
   "outputs": [],
   "source": [
    "data = data.resample('M').mean()"
   ]
  },
  {
   "cell_type": "code",
   "execution_count": 10,
   "id": "018c9bbf",
   "metadata": {},
   "outputs": [
    {
     "data": {
      "text/html": [
       "<div>\n",
       "<style scoped>\n",
       "    .dataframe tbody tr th:only-of-type {\n",
       "        vertical-align: middle;\n",
       "    }\n",
       "\n",
       "    .dataframe tbody tr th {\n",
       "        vertical-align: top;\n",
       "    }\n",
       "\n",
       "    .dataframe thead th {\n",
       "        text-align: right;\n",
       "    }\n",
       "</style>\n",
       "<table border=\"1\" class=\"dataframe\">\n",
       "  <thead>\n",
       "    <tr style=\"text-align: right;\">\n",
       "      <th></th>\n",
       "      <th>visibility</th>\n",
       "      <th>windBearing</th>\n",
       "      <th>temperature</th>\n",
       "      <th>dewPoint</th>\n",
       "      <th>pressure</th>\n",
       "      <th>apparentTemperature</th>\n",
       "      <th>windSpeed</th>\n",
       "      <th>humidity</th>\n",
       "    </tr>\n",
       "    <tr>\n",
       "      <th>date</th>\n",
       "      <th></th>\n",
       "      <th></th>\n",
       "      <th></th>\n",
       "      <th></th>\n",
       "      <th></th>\n",
       "      <th></th>\n",
       "      <th></th>\n",
       "      <th></th>\n",
       "    </tr>\n",
       "  </thead>\n",
       "  <tbody>\n",
       "    <tr>\n",
       "      <th>2011-11-30</th>\n",
       "      <td>8.215986</td>\n",
       "      <td>162.320833</td>\n",
       "      <td>10.595708</td>\n",
       "      <td>8.669917</td>\n",
       "      <td>1017.059139</td>\n",
       "      <td>10.004958</td>\n",
       "      <td>3.530500</td>\n",
       "      <td>0.883556</td>\n",
       "    </tr>\n",
       "    <tr>\n",
       "      <th>2011-12-31</th>\n",
       "      <td>12.519261</td>\n",
       "      <td>243.370968</td>\n",
       "      <td>7.087527</td>\n",
       "      <td>4.142728</td>\n",
       "      <td>1011.889664</td>\n",
       "      <td>4.624368</td>\n",
       "      <td>5.076720</td>\n",
       "      <td>0.819892</td>\n",
       "    </tr>\n",
       "    <tr>\n",
       "      <th>2012-01-31</th>\n",
       "      <td>11.484866</td>\n",
       "      <td>215.395161</td>\n",
       "      <td>6.776707</td>\n",
       "      <td>3.705578</td>\n",
       "      <td>1021.070349</td>\n",
       "      <td>4.701922</td>\n",
       "      <td>4.373333</td>\n",
       "      <td>0.813750</td>\n",
       "    </tr>\n",
       "    <tr>\n",
       "      <th>2012-02-29</th>\n",
       "      <td>10.541695</td>\n",
       "      <td>210.794540</td>\n",
       "      <td>4.868534</td>\n",
       "      <td>1.270101</td>\n",
       "      <td>1029.737687</td>\n",
       "      <td>2.829899</td>\n",
       "      <td>3.442011</td>\n",
       "      <td>0.783851</td>\n",
       "    </tr>\n",
       "    <tr>\n",
       "      <th>2012-03-31</th>\n",
       "      <td>9.320403</td>\n",
       "      <td>191.595430</td>\n",
       "      <td>9.307433</td>\n",
       "      <td>4.746989</td>\n",
       "      <td>1027.735833</td>\n",
       "      <td>8.151828</td>\n",
       "      <td>2.933952</td>\n",
       "      <td>0.752702</td>\n",
       "    </tr>\n",
       "  </tbody>\n",
       "</table>\n",
       "</div>"
      ],
      "text/plain": [
       "            visibility  windBearing  temperature  dewPoint     pressure  \\\n",
       "date                                                                      \n",
       "2011-11-30    8.215986   162.320833    10.595708  8.669917  1017.059139   \n",
       "2011-12-31   12.519261   243.370968     7.087527  4.142728  1011.889664   \n",
       "2012-01-31   11.484866   215.395161     6.776707  3.705578  1021.070349   \n",
       "2012-02-29   10.541695   210.794540     4.868534  1.270101  1029.737687   \n",
       "2012-03-31    9.320403   191.595430     9.307433  4.746989  1027.735833   \n",
       "\n",
       "            apparentTemperature  windSpeed  humidity  \n",
       "date                                                  \n",
       "2011-11-30            10.004958   3.530500  0.883556  \n",
       "2011-12-31             4.624368   5.076720  0.819892  \n",
       "2012-01-31             4.701922   4.373333  0.813750  \n",
       "2012-02-29             2.829899   3.442011  0.783851  \n",
       "2012-03-31             8.151828   2.933952  0.752702  "
      ]
     },
     "execution_count": 10,
     "metadata": {},
     "output_type": "execute_result"
    }
   ],
   "source": [
    "data.head()"
   ]
  },
  {
   "cell_type": "markdown",
   "id": "f84213fc",
   "metadata": {},
   "source": [
    "### Objectives "
   ]
  },
  {
   "cell_type": "markdown",
   "id": "9fa3b2ef",
   "metadata": {},
   "source": [
    "The primary aim is to visually present and interpret monthly weather trends through three distinct animated GIF visualizations:\n",
    "\n",
    "1.) Illuminate Average Monthly Temperature Trends\n",
    "\n",
    "2.) Clarify the Train/Test-Split Visualization\n",
    "\n",
    "3.) Uncover Patterns in Subplots of Temperature, Visibility, and Windspeed"
   ]
  },
  {
   "cell_type": "markdown",
   "id": "3094b120",
   "metadata": {},
   "source": [
    "### Monthly Temperature Trends"
   ]
  },
  {
   "cell_type": "markdown",
   "id": "8d78ddb0",
   "metadata": {},
   "source": [
    "**Objective:** Dynamically illustrate the average monthly temperature trends in London from 2012 to 2014."
   ]
  },
  {
   "cell_type": "code",
   "execution_count": 11,
   "id": "db39cc76",
   "metadata": {},
   "outputs": [],
   "source": [
    "#Defining the start and end dates\n",
    "END = data.index[-1]\n",
    "START = data.index[0]\n",
    "\n",
    "\n",
    "@gif.frame\n",
    "def plot(df, date):\n",
    "    df = df.loc[df.index[0]:pd.Timestamp(date)]\n",
    "    fig, (ax1) = plt.subplots(1, figsize=(10, 5), dpi=100)\n",
    "    ax1.plot(df.temperature, marker='o', linestyle='--', linewidth=3, markersize=10, color='tab:pink')\n",
    "    maxi = round(df.temperature.max() + 5)\n",
    "    ax1.set_title('Average Monthly Temperature in London over the 2012-2014', fontsize=20)\n",
    "    ax1.set_xlim([START, END])\n",
    "    ax1.set_ylim([0, maxi])\n",
    "    ax1.set_ylabel('Temperature C°', color='tab:blue', fontsize=17)"
   ]
  },
  {
   "cell_type": "code",
   "execution_count": 12,
   "id": "739a3f6c",
   "metadata": {},
   "outputs": [],
   "source": [
    "frames = []\n",
    "for date in pd.date_range(start=data.index[0],\n",
    "                          end=data.index[-1], \n",
    "                          freq='1M'):\n",
    "    frame = plot(data, date)\n",
    "    frames.append(frame)"
   ]
  },
  {
   "cell_type": "code",
   "execution_count": 13,
   "id": "3bcd186a",
   "metadata": {},
   "outputs": [
    {
     "data": {
      "text/html": [
       "<img src=\"./output.gif\" />"
      ],
      "text/plain": [
       "<IPython.core.display.HTML object>"
      ]
     },
     "execution_count": 13,
     "metadata": {},
     "output_type": "execute_result"
    }
   ],
   "source": [
    "#saving the GIF\n",
    "gif.save(frames, \"output.gif\", duration=0.5 ,unit = 's')\n",
    "\n",
    "#visualizing the GIF\n",
    "HTML('<img src=\"./output.gif\" />')"
   ]
  },
  {
   "cell_type": "markdown",
   "id": "f7d5b134",
   "metadata": {},
   "source": [
    "**Analysis:** The animated GIF dynamically encapsulates the nuanced ebb and flow of temperature fluctuations, presenting a visually immersive and compelling representation of London's weather dynamics.\n",
    "\n",
    "**Interpretation:** Within this captivating visual narrative, discernible cyclical patterns unfold, prominently featuring elevated temperatures during the mid-summer months and contrasting with lower temperatures in the winter season. This unmistakable cyclicality not only underscores the inherent rhythm within London's climate but strongly hints at a pronounced seasonal influence steering the temperature dynamics.\n",
    "\n",
    "**Managerial Insight:** Armed with this insightful understanding, decision-makers are empowered to proactively navigate the intricacies of seasonal fluctuations. This wealth of information becomes a strategic compass for optimizing business strategies, especially for enterprises tethered to weather conditions. Industries hosting outdoor events or relying on seasonal sales can strategically align their operations with the cyclical temperature patterns, ensuring a well-informed and adaptable approach. Anticipating temperature shifts becomes a cornerstone for precision in decision-making, enabling businesses to seize opportunities during favorable climatic conditions and mitigate risks during less conducive periods. The ability to align strategies with the observed cyclical patterns establishes a proactive framework, ultimately enhancing resilience and competitiveness in weather-sensitive sectors."
   ]
  },
  {
   "cell_type": "markdown",
   "id": "0b9a6d20",
   "metadata": {},
   "source": [
    "### Train/Test-Split Visualization"
   ]
  },
  {
   "cell_type": "markdown",
   "id": "2ed9dd26",
   "metadata": {},
   "source": [
    "**Objective:** Visually articulate the train/test-split of the data, emphasizing the distinction between the training and testing periods."
   ]
  },
  {
   "cell_type": "code",
   "execution_count": 14,
   "id": "60f2b8e1",
   "metadata": {},
   "outputs": [],
   "source": [
    "@gif.frame\n",
    "def plot_split(df, date, split_date):\n",
    "    df = df.loc[df.index[0]:pd.Timestamp(date)]\n",
    "    fig, (ax1) = plt.subplots(1, figsize=(10, 5), dpi=100)\n",
    "\n",
    "    #TRAIN\n",
    "    if date < pd.Timestamp(split_date):\n",
    "        ax1.axvspan(START, date, alpha=0.5, color='#33FF92')\n",
    "        ax1.text(pd.Timestamp('2012-01-31'), y=12, s='Train', fontsize=20)  # where the train text goes\n",
    "    #TEST\n",
    "    if (date > pd.Timestamp(split_date)):\n",
    "        ax1.axvspan(pd.Timestamp(split_date), date, alpha=0.5, color='#F933FF')\n",
    "        ax1.text(pd.Timestamp('2014-01-31'), y=12, s='Test', fontsize=20)\n",
    "    ax1.plot(df.temperature, marker='o', linestyle='--', linewidth=3, markersize=10, color='tab:orange')\n",
    "    maxi = round(df.temperature.max() + 5)\n",
    "\n",
    "    ax1.set_title('Train/Test-Split', fontsize=20)\n",
    "    ax1.set_xlim([START, END])\n",
    "    ax1.set_ylim([0, maxi])\n",
    "    ax1.set_ylabel('Temperature C°', color='tab:blue', fontsize=17)\n"
   ]
  },
  {
   "cell_type": "code",
   "execution_count": 15,
   "id": "9665e546",
   "metadata": {},
   "outputs": [],
   "source": [
    "frames = []\n",
    "for date in pd.date_range(start=data.index[0], end=data.index[-1], freq='1M'):\n",
    "    frame = plot_split(data, date, '2013-06-21')\n",
    "    frames.append(frame)\n",
    "\n",
    "gif.save(frames, \"output2.gif\", duration=0.5, unit='s')"
   ]
  },
  {
   "cell_type": "code",
   "execution_count": 16,
   "id": "ccc5f560",
   "metadata": {},
   "outputs": [
    {
     "data": {
      "text/html": [
       "<img src=\"./output2.gif\" />"
      ],
      "text/plain": [
       "<IPython.core.display.HTML object>"
      ]
     },
     "execution_count": 16,
     "metadata": {},
     "output_type": "execute_result"
    }
   ],
   "source": [
    "HTML('<img src=\"./output2.gif\" />')"
   ]
  },
  {
   "cell_type": "markdown",
   "id": "fd5c4301",
   "metadata": {},
   "source": [
    "**Analysis:** The animated GIF masterfully unravels the intricate layers of the Train/Test-Split visualization, providing a dynamic portrayal of the data segmentation. It delivers a visually captivating representation of how the dataset is strategically divided into training and testing sets, introducing clarity and depth to the understanding of model development.\n",
    "\n",
    "**Interpretation:** As the visual narrative unfolds, the GIF distinctly illustrates the temporal demarcation between the training and testing periods, centered around the selected split date ('2013-06-21'). This clear delineation is not merely a visual artifact but a crucial revelation, offering insights into the deliberate partitioning of data for model training and evaluation. It serves as a visual compass guiding the viewer through the intentional separation of temporal data, a fundamental aspect in ensuring robust model validation and performance assessment.\n",
    "\n",
    "**Managerial Insight:** This nuanced understanding of the Train/Test-Split becomes a strategic asset for decision-makers involved in predictive modeling. Armed with this insight, they can make informed choices about model development and validation processes. The visual representation serves as a valuable guide for optimizing model performance, offering a tangible framework for assessing how well the model generalizes to unseen data. This strategic clarity enhances decision-making around model implementation, ensuring a reliable and effective predictive tool for real-world applications."
   ]
  },
  {
   "cell_type": "markdown",
   "id": "468e714c",
   "metadata": {},
   "source": [
    "### Subplots of Temperature, Visibility, and Windspeed"
   ]
  },
  {
   "cell_type": "markdown",
   "id": "3d921dec",
   "metadata": {},
   "source": [
    "**Objective:** Present subplots of temperature, visibility, and windspeed to explore potential correlations."
   ]
  },
  {
   "cell_type": "code",
   "execution_count": 17,
   "id": "30d6d5d5",
   "metadata": {},
   "outputs": [],
   "source": [
    "@gif.frame\n",
    "def plot(df, date):\n",
    "    df = df.loc[df.index[0]:pd.Timestamp(date)]\n",
    "    fig, (ax1, ax2, ax3) = plt.subplots(3, figsize=(10, 5), dpi=100)\n",
    "\n",
    "    ax1.plot(df.temperature, marker='o', linestyle='--', linewidth=2, markersize=8, color='g')\n",
    "    maxi = round(df.temperature.max() + 5)\n",
    "    ax1.set_title('SUBPLOTS', fontsize=20)\n",
    "    ax1.set_xlim([START, END])\n",
    "    ax1.set_ylim([0, maxi])\n",
    "    ax1.set_ylabel('Temperature C°', color='green', fontsize=10)\n",
    "\n",
    "    ax2.plot(df.visibility, marker='o', linestyle='--', linewidth=2, markersize=8, color='r')\n",
    "    maxi = round(df.visibility.max() + 3)\n",
    "    ax2.set_xlim([START, END])\n",
    "    ax2.set_ylim([0, maxi])\n",
    "    ax2.set_ylabel('Visibility', color='red', fontsize=10)\n",
    "\n",
    "    ax3.plot(df.windSpeed, marker='o', linestyle='--', linewidth=2, markersize=8, color='b')\n",
    "    maxi = round(df.windSpeed.max() + 3)\n",
    "    ax3.set_xlim([START, END])\n",
    "    ax3.set_ylim([0, maxi])\n",
    "    ax3.set_ylabel('Windspeed', color='blue', fontsize=10)\n",
    "\n",
    "\n",
    "##### CREATE ANIMATIONS ######\n",
    "frames = []\n",
    "for date in pd.date_range(start=data.index[0], end=data.index[-1], freq='1M'):\n",
    "    frame = plot(data, date)\n",
    "    frames.append(frame)\n",
    "gif.save(frames, \"output3.gif\", duration=0.5, unit='s')"
   ]
  },
  {
   "cell_type": "code",
   "execution_count": 18,
   "id": "914f8adf",
   "metadata": {},
   "outputs": [
    {
     "data": {
      "text/html": [
       "<img src=\"./output3.gif\" />"
      ],
      "text/plain": [
       "<IPython.core.display.HTML object>"
      ]
     },
     "execution_count": 18,
     "metadata": {},
     "output_type": "execute_result"
    }
   ],
   "source": [
    "HTML('<img src=\"./output3.gif\" />')"
   ]
  },
  {
   "cell_type": "markdown",
   "id": "babe83a3",
   "metadata": {},
   "source": [
    "**Analysis:** The animated GIF portraying subplots of Temperature, Visibility, and Windspeed unfolds as a tapestry of dynamic visualizations, each subplot revealing distinct facets of London's weather variables. It seamlessly weaves together these elements, providing a comprehensive and visually rich exploration.\n",
    "\n",
    "**Interpretation:** As the animated tapestry unfolds, each subplot tells a unique story – the Temperature subplot unveils cyclic temperature patterns, the Visibility subplot illustrates stability with intermittent fluctuations, and the Windspeed subplot reveals dynamic variability devoid of a discernible seasonal trend. Together, they paint a vivid picture of the intricate dance of these weather variables over time. This multilayered interpretation invites contemplation on the diverse and independent behaviors of these crucial weather indicators.\n",
    "\n",
    "**Managerial Insight:** Decision-makers, armed with this multifaceted insight, gain a holistic understanding of how temperature, visibility, and windspeed interact over time. For businesses in the transportation sector, insights into windspeed variations offer strategic input for operational planning. Simultaneously, sectors dependent on clear visibility conditions can leverage this information to anticipate potential challenges. This integrated understanding of multiple weather variables empowers decision-makers to tailor strategies that align with the complex interplay of temperature, visibility, and windspeed. It establishes a foundation for weather-sensitive sectors to adapt and optimize operations, fostering resilience and strategic advantage."
   ]
  },
  {
   "cell_type": "markdown",
   "id": "27781eb3",
   "metadata": {},
   "source": [
    "### Conclusion"
   ]
  },
  {
   "cell_type": "markdown",
   "id": "f8fb4dbc",
   "metadata": {},
   "source": [
    "In conclusion, the comprehensive analysis presented in this report unfolds as a meticulous exploration of the intricate monthly weather trends in London spanning the years 2012 to 2014. This meticulous examination has unearthed valuable insights, illuminating the diverse and dynamic facets of London's climate. These insights extend beyond mere observations, evolving into strategic considerations that hold the potential to reshape decision-making paradigms across a spectrum of industries directly influenced by weather conditions.\n",
    "\n",
    "The animated visualizations, meticulously crafted and presented, transcend the traditional boundaries of data representation. They emerge not only as visual aids but as potent tools that distill the complexity of temporal patterns into a form that is both accessible and comprehensible. By translating intricate data into a visual language, these animations bridge the gap between raw information and actionable understanding.\n",
    "\n",
    "For decision-makers navigating sectors impacted by weather nuances, the significance of these animated tools cannot be overstated. The ability to visually apprehend the cyclical temperature trends, comprehend the strategic implications of a well-defined Train/Test-Split, and decipher the interplay of temperature, visibility, and windspeed in subplots, empowers strategic decision-makers with a heightened level of situational awareness. This heightened awareness, in turn, paves the way for more informed, adaptable, and forward-thinking decision-making.\n",
    "\n",
    "The animated visualizations, as catalysts for intuitive comprehension, serve as dynamic instruments that go beyond data representation; they become strategic assets. They elevate the discourse surrounding monthly weather trends beyond the confines of raw data, opening avenues for strategic foresight and proactive planning. In this light, the animated visualizations emerge not merely as presentations but as enablers of transformative decision-making processes, fostering resilience and innovation in the face of weather-related challenges. In the realm where data meets strategy, these visualizations stand as beacons, illuminating pathways to informed and strategic decision-making in a world where weather conditions shape the course of numerous industries."
   ]
  },
  {
   "cell_type": "markdown",
   "id": "40f0004d",
   "metadata": {},
   "source": [
    "Source of the data: Kaggle\n",
    "\n",
    "Source of the codes: Kaggle"
   ]
  }
 ],
 "metadata": {
  "kernelspec": {
   "display_name": "Python 3 (ipykernel)",
   "language": "python",
   "name": "python3"
  },
  "language_info": {
   "codemirror_mode": {
    "name": "ipython",
    "version": 3
   },
   "file_extension": ".py",
   "mimetype": "text/x-python",
   "name": "python",
   "nbconvert_exporter": "python",
   "pygments_lexer": "ipython3",
   "version": "3.8.8"
  }
 },
 "nbformat": 4,
 "nbformat_minor": 5
}
